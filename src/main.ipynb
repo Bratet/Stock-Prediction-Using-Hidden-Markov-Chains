{
 "cells": [
  {
   "cell_type": "code",
   "execution_count": 1,
   "metadata": {},
   "outputs": [],
   "source": [
    "from utils import *"
   ]
  },
  {
   "cell_type": "code",
   "execution_count": 2,
   "metadata": {},
   "outputs": [],
   "source": [
    "import numpy as np"
   ]
  },
  {
   "cell_type": "code",
   "execution_count": 3,
   "metadata": {},
   "outputs": [
    {
     "name": "stdout",
     "output_type": "stream",
     "text": [
      "[*********************100%***********************]  1 of 1 completed\n"
     ]
    }
   ],
   "source": [
    "# Get stock prices and price movements\n",
    "company_symbol = \"AAPL\"\n",
    "start_date = \"2018-01-01\"\n",
    "end_date = \"2022-01-01\"\n",
    "\n",
    "stock_prices = get_stock_prices(company_symbol, start_date, end_date)\n",
    "price_movements = get_price_movements(stock_prices)"
   ]
  },
  {
   "attachments": {},
   "cell_type": "markdown",
   "metadata": {},
   "source": [
    "Applying HMM learning from the data :"
   ]
  },
  {
   "cell_type": "code",
   "execution_count": 4,
   "metadata": {},
   "outputs": [
    {
     "name": "stderr",
     "output_type": "stream",
     "text": [
      "100%|██████████| 1000/1000 [00:08<00:00, 120.76it/s]\n"
     ]
    }
   ],
   "source": [
    "# Train HMM model\n",
    "n_states = 2\n",
    "iterations = 1000\n",
    "\n",
    "pi, A, O = baum_welch([price_movements], n_states, iterations=iterations)"
   ]
  },
  {
   "attachments": {},
   "cell_type": "markdown",
   "metadata": {},
   "source": [
    "Calculating scores for observation sequences :"
   ]
  },
  {
   "cell_type": "code",
   "execution_count": 5,
   "metadata": {},
   "outputs": [
    {
     "name": "stdout",
     "output_type": "stream",
     "text": [
      "[*********************100%***********************]  1 of 1 completed\n"
     ]
    }
   ],
   "source": [
    "# Get new observation sequence\n",
    "obs_sequence = get_price_movements(get_stock_prices(company_symbol, \"2022-01-01\", \"2022-01-31\"))"
   ]
  },
  {
   "cell_type": "code",
   "execution_count": 6,
   "metadata": {},
   "outputs": [
    {
     "name": "stdout",
     "output_type": "stream",
     "text": [
      "Probability of the given sequence of observations: 2.8613606129147745e-06\n"
     ]
    }
   ],
   "source": [
    "# Calculate sequence probability\n",
    "alpha, seq_probability = forward(pi, A, O, obs_sequence)\n",
    "print(f\"Probability of the given sequence of observations: {seq_probability}\")"
   ]
  },
  {
   "attachments": {},
   "cell_type": "markdown",
   "metadata": {},
   "source": [
    "Decoding observation sequences : "
   ]
  },
  {
   "cell_type": "code",
   "execution_count": 7,
   "metadata": {},
   "outputs": [
    {
     "name": "stdout",
     "output_type": "stream",
     "text": [
      "Most likely states: [1 1 1 0 0 0 0 1 0 1 1 1 1 1 1 1 1 0]\n"
     ]
    }
   ],
   "source": [
    "# Predict the most likely hidden states\n",
    "delta, psi = viterbi(n_states, pi, A, O, obs_sequence)\n",
    "\n",
    "# The most probable state sequence.\n",
    "state_sequence = np.zeros(len(obs_sequence), dtype=np.int32)\n",
    "state_sequence[-1] = np.argmax(delta[:, -1])\n",
    "for t in range(len(obs_sequence) - 2, -1, -1):\n",
    "    state_sequence[t] = psi[int(state_sequence[t+1]), t+1]\n",
    "\n",
    "print(f\"Most likely states: {state_sequence}\")"
   ]
  }
 ],
 "metadata": {
  "kernelspec": {
   "display_name": "base",
   "language": "python",
   "name": "python3"
  },
  "language_info": {
   "codemirror_mode": {
    "name": "ipython",
    "version": 3
   },
   "file_extension": ".py",
   "mimetype": "text/x-python",
   "name": "python",
   "nbconvert_exporter": "python",
   "pygments_lexer": "ipython3",
   "version": "3.9.11"
  },
  "orig_nbformat": 4
 },
 "nbformat": 4,
 "nbformat_minor": 2
}
