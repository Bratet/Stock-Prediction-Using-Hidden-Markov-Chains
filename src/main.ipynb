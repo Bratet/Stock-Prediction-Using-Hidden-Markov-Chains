{
 "cells": [
  {
   "cell_type": "code",
   "execution_count": 1,
   "metadata": {},
   "outputs": [],
   "source": [
    "from utils import *"
   ]
  },
  {
   "cell_type": "code",
   "execution_count": 2,
   "metadata": {},
   "outputs": [],
   "source": [
    "import numpy as np"
   ]
  },
  {
   "cell_type": "code",
   "execution_count": 3,
   "metadata": {},
   "outputs": [
    {
     "name": "stdout",
     "output_type": "stream",
     "text": [
      "[*********************100%***********************]  1 of 1 completed\n"
     ]
    }
   ],
   "source": [
    "# Get stock prices and price movements\n",
    "company_symbol = \"AAPL\"\n",
    "start_date = \"2018-01-01\"\n",
    "end_date = \"2021-01-01\"\n",
    "\n",
    "stock_prices = get_stock_prices(company_symbol, start_date, end_date)\n",
    "price_movements = get_price_movements(stock_prices)"
   ]
  },
  {
   "cell_type": "code",
   "execution_count": 4,
   "metadata": {},
   "outputs": [
    {
     "name": "stderr",
     "output_type": "stream",
     "text": [
      "100%|██████████| 1000/1000 [00:06<00:00, 157.18it/s]\n"
     ]
    }
   ],
   "source": [
    "# Train HMM model\n",
    "n_states = 2\n",
    "iterations = 1000\n",
    "\n",
    "pi, A, O = baum_welch([price_movements], n_states, iterations=iterations)"
   ]
  },
  {
   "cell_type": "code",
   "execution_count": 5,
   "metadata": {},
   "outputs": [
    {
     "name": "stdout",
     "output_type": "stream",
     "text": [
      "[*********************100%***********************]  1 of 1 completed\n"
     ]
    }
   ],
   "source": [
    "obs_sequence = get_price_movements(get_stock_prices(\"AAPL\", \"2021-02-01\", \"2021-02-28\"))"
   ]
  },
  {
   "cell_type": "code",
   "execution_count": 6,
   "metadata": {},
   "outputs": [
    {
     "name": "stdout",
     "output_type": "stream",
     "text": [
      "Probability of the given sequence of observations: 2.4173537530092497e-07\n"
     ]
    }
   ],
   "source": [
    "alpha, seq_probability = forward(pi, A, O, obs_sequence)\n",
    "print(f\"Probability of the given sequence of observations: {seq_probability}\")\n"
   ]
  },
  {
   "cell_type": "code",
   "execution_count": 7,
   "metadata": {},
   "outputs": [
    {
     "name": "stdout",
     "output_type": "stream",
     "text": [
      "Most likely state sequence for the given sequence of observations: [0 0 1 0 1 0 0 0 1 0 0 0 1 0 0 0 0 1]\n"
     ]
    }
   ],
   "source": [
    "delta, psi = viterbi(n_states, pi, A, O, obs_sequence)\n",
    "\n",
    "n_observations = len(obs_sequence)\n",
    "most_likely_states = np.zeros(n_observations, dtype=int)\n",
    "most_likely_states[-1] = np.argmax(delta[:, -1])\n",
    "for t in range(n_observations-2, -1, -1):\n",
    "    most_likely_states[t] = psi[most_likely_states[t+1], t+1]\n",
    "\n",
    "print(f\"Most likely state sequence for the given sequence of observations: {most_likely_states}\")"
   ]
  },
  {
   "cell_type": "code",
   "execution_count": 8,
   "metadata": {},
   "outputs": [
    {
     "name": "stdout",
     "output_type": "stream",
     "text": [
      "Accuracy of the model: 0.9444444444444444\n"
     ]
    }
   ],
   "source": [
    "print(f\"Accuracy of the model: {get_accuracy(obs_sequence, most_likely_states)}\")"
   ]
  }
 ],
 "metadata": {
  "kernelspec": {
   "display_name": "base",
   "language": "python",
   "name": "python3"
  },
  "language_info": {
   "codemirror_mode": {
    "name": "ipython",
    "version": 3
   },
   "file_extension": ".py",
   "mimetype": "text/x-python",
   "name": "python",
   "nbconvert_exporter": "python",
   "pygments_lexer": "ipython3",
   "version": "3.9.11"
  },
  "orig_nbformat": 4
 },
 "nbformat": 4,
 "nbformat_minor": 2
}
